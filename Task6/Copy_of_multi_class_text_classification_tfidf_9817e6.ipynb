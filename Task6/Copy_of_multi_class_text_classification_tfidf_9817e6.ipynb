{
 "cells": [
  {
   "cell_type": "markdown",
   "metadata": {
    "id": "AEqeUvr9mTHV"
   },
   "source": [
    "<a id='imp'></a>\n",
    "## Importing packages and loading data"
   ]
  },
  {
   "cell_type": "code",
   "execution_count": 5,
   "metadata": {
    "_cell_guid": "b1076dfc-b9ad-4769-8c92-a6c4dae69d19",
    "_uuid": "8f2839f25d086af736a60e9eeb907d3b93b6e0e5",
    "execution": {
     "iopub.execute_input": "2021-12-01T06:44:54.842458Z",
     "iopub.status.busy": "2021-12-01T06:44:54.841843Z",
     "iopub.status.idle": "2021-12-01T06:44:55.969918Z",
     "shell.execute_reply": "2021-12-01T06:44:55.968709Z",
     "shell.execute_reply.started": "2021-12-01T06:44:54.842119Z"
    },
    "id": "DqoShQzdmTHY"
   },
   "outputs": [],
   "source": [
    "# Input data files are available in the \"../input/\" directory.\n",
    "import os\n",
    "#print(os.listdir(\"../input\"))\n",
    "\n",
    "import pandas as pd\n",
    "import numpy as np\n",
    "from scipy.stats import randint\n",
    "import seaborn as sns # used for plot interactive graph.\n",
    "import matplotlib.pyplot as plt\n",
    "import seaborn as sns\n",
    "from io import StringIO\n",
    "from sklearn.feature_extraction.text import TfidfVectorizer\n",
    "from sklearn.feature_selection import chi2\n",
    "from IPython.display import display\n",
    "from sklearn.model_selection import train_test_split\n",
    "from sklearn.feature_extraction.text import TfidfTransformer\n",
    "from sklearn.naive_bayes import MultinomialNB\n",
    "from sklearn.linear_model import LogisticRegression\n",
    "from sklearn.ensemble import RandomForestClassifier\n",
    "from sklearn.svm import LinearSVC\n",
    "from sklearn.model_selection import cross_val_score\n",
    "from sklearn.metrics import confusion_matrix\n",
    "from sklearn import metrics\n",
    "#import warnings\n",
    "#warnings.filterwarnings(\"ignore\", category=FutureWarning)"
   ]
  },
  {
   "cell_type": "code",
   "execution_count": 6,
   "metadata": {
    "execution": {
     "iopub.execute_input": "2021-12-01T06:44:55.971629Z",
     "iopub.status.busy": "2021-12-01T06:44:55.971285Z",
     "iopub.status.idle": "2021-12-01T06:45:13.018000Z",
     "shell.execute_reply": "2021-12-01T06:45:13.017204Z",
     "shell.execute_reply.started": "2021-12-01T06:44:55.971562Z"
    },
    "id": "r4Ld3fpzmTHe"
   },
   "outputs": [
    {
     "data": {
      "text/plain": [
       "(4060417, 18)"
      ]
     },
     "execution_count": 6,
     "metadata": {},
     "output_type": "execute_result"
    }
   ],
   "source": [
    "# loading data\n",
    "df = pd.read_csv('complaints.csv')\n",
    "df.shape"
   ]
  },
  {
   "cell_type": "markdown",
   "metadata": {
    "id": "lvFciXyVmTHj"
   },
   "source": [
    "<a id='eda'></a>\n",
    "## Exploratory Data Analysis (EDA) and Feature Engineering"
   ]
  },
  {
   "cell_type": "code",
   "execution_count": 7,
   "metadata": {
    "execution": {
     "iopub.execute_input": "2021-12-01T06:45:13.019752Z",
     "iopub.status.busy": "2021-12-01T06:45:13.019419Z",
     "iopub.status.idle": "2021-12-01T06:45:13.049923Z",
     "shell.execute_reply": "2021-12-01T06:45:13.049170Z",
     "shell.execute_reply.started": "2021-12-01T06:45:13.019689Z"
    },
    "id": "La8h4F39mTHn"
   },
   "outputs": [
    {
     "data": {
      "text/html": [
       "<div>\n",
       "<style scoped>\n",
       "    .dataframe tbody tr th:only-of-type {\n",
       "        vertical-align: middle;\n",
       "    }\n",
       "\n",
       "    .dataframe tbody tr th {\n",
       "        vertical-align: top;\n",
       "    }\n",
       "\n",
       "    .dataframe thead th {\n",
       "        text-align: right;\n",
       "    }\n",
       "</style>\n",
       "<table border=\"1\" class=\"dataframe\">\n",
       "  <thead>\n",
       "    <tr style=\"text-align: right;\">\n",
       "      <th></th>\n",
       "      <th>0</th>\n",
       "      <th>1</th>\n",
       "    </tr>\n",
       "  </thead>\n",
       "  <tbody>\n",
       "    <tr>\n",
       "      <th>Date received</th>\n",
       "      <td>2023-08-23</td>\n",
       "      <td>2023-08-23</td>\n",
       "    </tr>\n",
       "    <tr>\n",
       "      <th>Product</th>\n",
       "      <td>Credit reporting, credit repair services, or o...</td>\n",
       "      <td>Credit reporting, credit repair services, or o...</td>\n",
       "    </tr>\n",
       "    <tr>\n",
       "      <th>Sub-product</th>\n",
       "      <td>Credit reporting</td>\n",
       "      <td>Credit reporting</td>\n",
       "    </tr>\n",
       "    <tr>\n",
       "      <th>Issue</th>\n",
       "      <td>Incorrect information on your report</td>\n",
       "      <td>Improper use of your report</td>\n",
       "    </tr>\n",
       "    <tr>\n",
       "      <th>Sub-issue</th>\n",
       "      <td>Information belongs to someone else</td>\n",
       "      <td>Reporting company used your report improperly</td>\n",
       "    </tr>\n",
       "    <tr>\n",
       "      <th>Consumer complaint narrative</th>\n",
       "      <td>NaN</td>\n",
       "      <td>NaN</td>\n",
       "    </tr>\n",
       "    <tr>\n",
       "      <th>Company public response</th>\n",
       "      <td>NaN</td>\n",
       "      <td>NaN</td>\n",
       "    </tr>\n",
       "    <tr>\n",
       "      <th>Company</th>\n",
       "      <td>Experian Information Solutions Inc.</td>\n",
       "      <td>Experian Information Solutions Inc.</td>\n",
       "    </tr>\n",
       "    <tr>\n",
       "      <th>State</th>\n",
       "      <td>OH</td>\n",
       "      <td>PA</td>\n",
       "    </tr>\n",
       "    <tr>\n",
       "      <th>ZIP code</th>\n",
       "      <td>44143</td>\n",
       "      <td>19145</td>\n",
       "    </tr>\n",
       "    <tr>\n",
       "      <th>Tags</th>\n",
       "      <td>NaN</td>\n",
       "      <td>NaN</td>\n",
       "    </tr>\n",
       "    <tr>\n",
       "      <th>Consumer consent provided?</th>\n",
       "      <td>NaN</td>\n",
       "      <td>NaN</td>\n",
       "    </tr>\n",
       "    <tr>\n",
       "      <th>Submitted via</th>\n",
       "      <td>Web</td>\n",
       "      <td>Web</td>\n",
       "    </tr>\n",
       "    <tr>\n",
       "      <th>Date sent to company</th>\n",
       "      <td>2023-08-23</td>\n",
       "      <td>2023-08-23</td>\n",
       "    </tr>\n",
       "    <tr>\n",
       "      <th>Company response to consumer</th>\n",
       "      <td>In progress</td>\n",
       "      <td>In progress</td>\n",
       "    </tr>\n",
       "    <tr>\n",
       "      <th>Timely response?</th>\n",
       "      <td>Yes</td>\n",
       "      <td>Yes</td>\n",
       "    </tr>\n",
       "    <tr>\n",
       "      <th>Consumer disputed?</th>\n",
       "      <td>NaN</td>\n",
       "      <td>NaN</td>\n",
       "    </tr>\n",
       "    <tr>\n",
       "      <th>Complaint ID</th>\n",
       "      <td>7443103</td>\n",
       "      <td>7443104</td>\n",
       "    </tr>\n",
       "  </tbody>\n",
       "</table>\n",
       "</div>"
      ],
      "text/plain": [
       "                                                                              0  \\\n",
       "Date received                                                        2023-08-23   \n",
       "Product                       Credit reporting, credit repair services, or o...   \n",
       "Sub-product                                                    Credit reporting   \n",
       "Issue                                      Incorrect information on your report   \n",
       "Sub-issue                                   Information belongs to someone else   \n",
       "Consumer complaint narrative                                                NaN   \n",
       "Company public response                                                     NaN   \n",
       "Company                                     Experian Information Solutions Inc.   \n",
       "State                                                                        OH   \n",
       "ZIP code                                                                  44143   \n",
       "Tags                                                                        NaN   \n",
       "Consumer consent provided?                                                  NaN   \n",
       "Submitted via                                                               Web   \n",
       "Date sent to company                                                 2023-08-23   \n",
       "Company response to consumer                                        In progress   \n",
       "Timely response?                                                            Yes   \n",
       "Consumer disputed?                                                          NaN   \n",
       "Complaint ID                                                            7443103   \n",
       "\n",
       "                                                                              1  \n",
       "Date received                                                        2023-08-23  \n",
       "Product                       Credit reporting, credit repair services, or o...  \n",
       "Sub-product                                                    Credit reporting  \n",
       "Issue                                               Improper use of your report  \n",
       "Sub-issue                         Reporting company used your report improperly  \n",
       "Consumer complaint narrative                                                NaN  \n",
       "Company public response                                                     NaN  \n",
       "Company                                     Experian Information Solutions Inc.  \n",
       "State                                                                        PA  \n",
       "ZIP code                                                                  19145  \n",
       "Tags                                                                        NaN  \n",
       "Consumer consent provided?                                                  NaN  \n",
       "Submitted via                                                               Web  \n",
       "Date sent to company                                                 2023-08-23  \n",
       "Company response to consumer                                        In progress  \n",
       "Timely response?                                                            Yes  \n",
       "Consumer disputed?                                                          NaN  \n",
       "Complaint ID                                                            7443104  "
      ]
     },
     "execution_count": 7,
     "metadata": {},
     "output_type": "execute_result"
    }
   ],
   "source": [
    "df.head(2).T # Columns are shown in rows for easy reading"
   ]
  },
  {
   "cell_type": "markdown",
   "metadata": {
    "id": "Y_lB4m2-mTHq"
   },
   "source": [
    "The dataset contains features that are not necessary to solve our multi-classification problem. For this text classification problem, we are going to build another dataframe that contains ‘Product’ and ‘Consumer complaint narrative’ (renamed as 'Consumer_complaint')."
   ]
  },
  {
   "cell_type": "code",
   "execution_count": 8,
   "metadata": {
    "_cell_guid": "79c7e3d0-c299-4dcb-8224-4455121ee9b0",
    "_uuid": "d629ff2d2480ee46fbb7e2d37f6b5fab8052498a",
    "execution": {
     "iopub.execute_input": "2021-12-01T06:46:07.909499Z",
     "iopub.status.busy": "2021-12-01T06:46:07.908927Z",
     "iopub.status.idle": "2021-12-01T06:46:08.134748Z",
     "shell.execute_reply": "2021-12-01T06:46:08.133965Z",
     "shell.execute_reply.started": "2021-12-01T06:46:07.909454Z"
    },
    "id": "4cEm3rSVmTHs"
   },
   "outputs": [
    {
     "data": {
      "text/plain": [
       "(1470283, 2)"
      ]
     },
     "execution_count": 8,
     "metadata": {},
     "output_type": "execute_result"
    }
   ],
   "source": [
    "# Create a new dataframe with two columns\n",
    "df1 = df[['Product', 'Consumer complaint narrative']].copy()\n",
    "\n",
    "# Remove missing values (NaN)\n",
    "df1 = df1[pd.notnull(df1['Consumer complaint narrative'])]\n",
    "\n",
    "# Renaming second column for a simpler name\n",
    "df1.columns = ['Product', 'Consumer_complaint']\n",
    "\n",
    "df1.shape"
   ]
  },
  {
   "cell_type": "code",
   "execution_count": 9,
   "metadata": {
    "execution": {
     "iopub.execute_input": "2021-12-01T06:46:09.133822Z",
     "iopub.status.busy": "2021-12-01T06:46:09.133491Z",
     "iopub.status.idle": "2021-12-01T06:46:09.203260Z",
     "shell.execute_reply": "2021-12-01T06:46:09.202475Z",
     "shell.execute_reply.started": "2021-12-01T06:46:09.133761Z"
    },
    "id": "HIXreCkWmTHv"
   },
   "outputs": [
    {
     "data": {
      "text/plain": [
       "36.2"
      ]
     },
     "execution_count": 9,
     "metadata": {},
     "output_type": "execute_result"
    }
   ],
   "source": [
    "# Percentage of complaints with text\n",
    "total = df1['Consumer_complaint'].notnull().sum()\n",
    "round((total/len(df)*100),1)"
   ]
  },
  {
   "cell_type": "markdown",
   "metadata": {
    "id": "DGGbyPzomTH0"
   },
   "source": [
    "From more than 1 million complaints, there are about 380,000 cases with text (~ 30% of the original dataset is not null). This is still a good number to work with. Now let's have a look at the categories we want to classify each complaint."
   ]
  },
  {
   "cell_type": "code",
   "execution_count": 10,
   "metadata": {
    "execution": {
     "iopub.execute_input": "2021-12-01T06:46:15.491320Z",
     "iopub.status.busy": "2021-12-01T06:46:15.490698Z",
     "iopub.status.idle": "2021-12-01T06:46:15.603943Z",
     "shell.execute_reply": "2021-12-01T06:46:15.602940Z",
     "shell.execute_reply.started": "2021-12-01T06:46:15.491275Z"
    },
    "id": "iOJZyOc1mTH2"
   },
   "outputs": [
    {
     "data": {
      "text/plain": [
       "array([['Credit reporting, credit repair services, or other personal consumer reports'],\n",
       "       ['Student loan'],\n",
       "       ['Credit card or prepaid card'],\n",
       "       ['Checking or savings account'],\n",
       "       ['Payday loan, title loan, or personal loan'],\n",
       "       ['Credit reporting or other personal consumer reports'],\n",
       "       ['Mortgage'],\n",
       "       ['Debt collection'],\n",
       "       ['Vehicle loan or lease'],\n",
       "       ['Money transfer, virtual currency, or money service'],\n",
       "       ['Credit card'],\n",
       "       ['Prepaid card'],\n",
       "       ['Debt or credit management'],\n",
       "       ['Payday loan, title loan, personal loan, or advance loan'],\n",
       "       ['Payday loan'],\n",
       "       ['Consumer Loan'],\n",
       "       ['Bank account or service'],\n",
       "       ['Credit reporting'],\n",
       "       ['Money transfers'],\n",
       "       ['Other financial service'],\n",
       "       ['Virtual currency']], dtype=object)"
      ]
     },
     "execution_count": 10,
     "metadata": {},
     "output_type": "execute_result"
    }
   ],
   "source": [
    "pd.DataFrame(df.Product.unique()).values"
   ]
  },
  {
   "cell_type": "markdown",
   "metadata": {
    "id": "aTb-KlbrmTH6"
   },
   "source": [
    "There are 18 different classes or categories (target). However; it is observed that some classes are contained in others. For instance, ‘Credit card’ and ‘Prepaid card’ are contained in ‘Credit card or prepaid card’ category. Now, imagine there is a new complaint about Credit card and we want to classify it. The algorithm can either classify this complaint as 'Credit card' or 'Credit card or prepaid' and it would be correct. Nevertheless, this would affect model performance. In order to avoid this problem, the names of some categories were renamed."
   ]
  },
  {
   "cell_type": "code",
   "execution_count": 11,
   "metadata": {
    "execution": {
     "iopub.execute_input": "2021-12-01T06:46:21.035805Z",
     "iopub.status.busy": "2021-12-01T06:46:21.035201Z",
     "iopub.status.idle": "2021-12-01T06:46:21.056410Z",
     "shell.execute_reply": "2021-12-01T06:46:21.055652Z",
     "shell.execute_reply.started": "2021-12-01T06:46:21.035456Z"
    },
    "id": "Vd-zBdQmmTH8"
   },
   "outputs": [],
   "source": [
    "# Because the computation is time consuming (in terms of CPU), the data was sampled\n",
    "df2 = df1.sample(10000, random_state=1).copy()"
   ]
  },
  {
   "cell_type": "code",
   "execution_count": 12,
   "metadata": {
    "execution": {
     "iopub.execute_input": "2021-12-01T06:46:21.870551Z",
     "iopub.status.busy": "2021-12-01T06:46:21.869976Z",
     "iopub.status.idle": "2021-12-01T06:46:21.885900Z",
     "shell.execute_reply": "2021-12-01T06:46:21.884791Z",
     "shell.execute_reply.started": "2021-12-01T06:46:21.870501Z"
    },
    "id": "Ce2NFJqgmTH9"
   },
   "outputs": [],
   "source": [
    "# Renaming categories\n",
    "df2.replace({'Product':\n",
    "             {'Credit reporting, credit repair services, or other personal consumer reports':\n",
    "              'Credit reporting, repair, or other',\n",
    "              'Credit reporting': 'Credit reporting, repair, or other',\n",
    "             'Credit card': 'Credit card or prepaid card',\n",
    "             'Prepaid card': 'Credit card or prepaid card',\n",
    "             'Payday loan': 'Payday loan, title loan, or personal loan',\n",
    "             'Money transfer': 'Money transfer, virtual currency, or money service',\n",
    "             'Virtual currency': 'Money transfer, virtual currency, or money service'}},\n",
    "            inplace= True)"
   ]
  },
  {
   "cell_type": "code",
   "execution_count": 13,
   "metadata": {},
   "outputs": [
    {
     "data": {
      "text/plain": [
       "array(['Debt collection', 'Credit reporting, repair, or other',\n",
       "       'Mortgage', 'Consumer Loan'], dtype=object)"
      ]
     },
     "execution_count": 13,
     "metadata": {},
     "output_type": "execute_result"
    }
   ],
   "source": [
    "# we need to classify the data into four categories only \n",
    "categories = ['Credit reporting, repair, or other','Debt collection','Consumer Loan','Mortgage']\n",
    "\n",
    "df2 = df2[df2['Product'].isin(categories)]\n",
    "df2['Product'].unique()"
   ]
  },
  {
   "cell_type": "code",
   "execution_count": 14,
   "metadata": {
    "execution": {
     "iopub.execute_input": "2021-12-01T06:46:29.497929Z",
     "iopub.status.busy": "2021-12-01T06:46:29.497612Z",
     "iopub.status.idle": "2021-12-01T06:46:29.512582Z",
     "shell.execute_reply": "2021-12-01T06:46:29.511738Z",
     "shell.execute_reply.started": "2021-12-01T06:46:29.497872Z"
    },
    "id": "zxHavf0ymTH_"
   },
   "outputs": [
    {
     "data": {
      "text/html": [
       "<div>\n",
       "<style scoped>\n",
       "    .dataframe tbody tr th:only-of-type {\n",
       "        vertical-align: middle;\n",
       "    }\n",
       "\n",
       "    .dataframe tbody tr th {\n",
       "        vertical-align: top;\n",
       "    }\n",
       "\n",
       "    .dataframe thead th {\n",
       "        text-align: right;\n",
       "    }\n",
       "</style>\n",
       "<table border=\"1\" class=\"dataframe\">\n",
       "  <thead>\n",
       "    <tr style=\"text-align: right;\">\n",
       "      <th></th>\n",
       "      <th>0</th>\n",
       "    </tr>\n",
       "  </thead>\n",
       "  <tbody>\n",
       "    <tr>\n",
       "      <th>0</th>\n",
       "      <td>Debt collection</td>\n",
       "    </tr>\n",
       "    <tr>\n",
       "      <th>1</th>\n",
       "      <td>Credit reporting, repair, or other</td>\n",
       "    </tr>\n",
       "    <tr>\n",
       "      <th>2</th>\n",
       "      <td>Mortgage</td>\n",
       "    </tr>\n",
       "    <tr>\n",
       "      <th>3</th>\n",
       "      <td>Consumer Loan</td>\n",
       "    </tr>\n",
       "  </tbody>\n",
       "</table>\n",
       "</div>"
      ],
      "text/plain": [
       "                                    0\n",
       "0                     Debt collection\n",
       "1  Credit reporting, repair, or other\n",
       "2                            Mortgage\n",
       "3                       Consumer Loan"
      ]
     },
     "execution_count": 14,
     "metadata": {},
     "output_type": "execute_result"
    }
   ],
   "source": [
    "pd.DataFrame(df2.Product.unique())"
   ]
  },
  {
   "cell_type": "markdown",
   "metadata": {
    "id": "_2uLbizAmTIA"
   },
   "source": [
    "The number of classes were reduced from 18 to 13. <br><br>Now we need to represent each class as a number, so as our predictive model can better understand the different categories."
   ]
  },
  {
   "cell_type": "code",
   "execution_count": 15,
   "metadata": {
    "execution": {
     "iopub.execute_input": "2021-12-01T06:46:37.604333Z",
     "iopub.status.busy": "2021-12-01T06:46:37.603760Z",
     "iopub.status.idle": "2021-12-01T06:46:37.629069Z",
     "shell.execute_reply": "2021-12-01T06:46:37.628493Z",
     "shell.execute_reply.started": "2021-12-01T06:46:37.604009Z"
    },
    "id": "DSeaosNwmTIB"
   },
   "outputs": [
    {
     "data": {
      "text/html": [
       "<div>\n",
       "<style scoped>\n",
       "    .dataframe tbody tr th:only-of-type {\n",
       "        vertical-align: middle;\n",
       "    }\n",
       "\n",
       "    .dataframe tbody tr th {\n",
       "        vertical-align: top;\n",
       "    }\n",
       "\n",
       "    .dataframe thead th {\n",
       "        text-align: right;\n",
       "    }\n",
       "</style>\n",
       "<table border=\"1\" class=\"dataframe\">\n",
       "  <thead>\n",
       "    <tr style=\"text-align: right;\">\n",
       "      <th></th>\n",
       "      <th>Product</th>\n",
       "      <th>Consumer_complaint</th>\n",
       "      <th>category_id</th>\n",
       "    </tr>\n",
       "  </thead>\n",
       "  <tbody>\n",
       "    <tr>\n",
       "      <th>2887865</th>\n",
       "      <td>Debt collection</td>\n",
       "      <td>Since last  XXXX ,  Commonwealth Financial has...</td>\n",
       "      <td>0</td>\n",
       "    </tr>\n",
       "    <tr>\n",
       "      <th>1013335</th>\n",
       "      <td>Credit reporting, repair, or other</td>\n",
       "      <td>I pulled my credit report on XX/XX/19, upon re...</td>\n",
       "      <td>1</td>\n",
       "    </tr>\n",
       "    <tr>\n",
       "      <th>1216800</th>\n",
       "      <td>Credit reporting, repair, or other</td>\n",
       "      <td>According to FCRA 609 ( a ) ( 1 ) ( A ), Finan...</td>\n",
       "      <td>1</td>\n",
       "    </tr>\n",
       "    <tr>\n",
       "      <th>952058</th>\n",
       "      <td>Credit reporting, repair, or other</td>\n",
       "      <td>Chase Auto Finance advised that they received ...</td>\n",
       "      <td>1</td>\n",
       "    </tr>\n",
       "    <tr>\n",
       "      <th>454583</th>\n",
       "      <td>Debt collection</td>\n",
       "      <td>Requested original alleged contract with origi...</td>\n",
       "      <td>0</td>\n",
       "    </tr>\n",
       "  </tbody>\n",
       "</table>\n",
       "</div>"
      ],
      "text/plain": [
       "                                    Product  \\\n",
       "2887865                     Debt collection   \n",
       "1013335  Credit reporting, repair, or other   \n",
       "1216800  Credit reporting, repair, or other   \n",
       "952058   Credit reporting, repair, or other   \n",
       "454583                      Debt collection   \n",
       "\n",
       "                                        Consumer_complaint  category_id  \n",
       "2887865  Since last  XXXX ,  Commonwealth Financial has...            0  \n",
       "1013335  I pulled my credit report on XX/XX/19, upon re...            1  \n",
       "1216800  According to FCRA 609 ( a ) ( 1 ) ( A ), Finan...            1  \n",
       "952058   Chase Auto Finance advised that they received ...            1  \n",
       "454583   Requested original alleged contract with origi...            0  "
      ]
     },
     "execution_count": 15,
     "metadata": {},
     "output_type": "execute_result"
    }
   ],
   "source": [
    "# Create a new column 'category_id' with encoded categories\n",
    "df2['category_id'] = df2['Product'].factorize()[0]\n",
    "category_id_df = df2[['Product', 'category_id']].drop_duplicates()\n",
    "\n",
    "\n",
    "# Dictionaries for future use\n",
    "category_to_id = dict(category_id_df.values)\n",
    "id_to_category = dict(category_id_df[['category_id', 'Product']].values)\n",
    "\n",
    "# New dataframe\n",
    "df2.head()"
   ]
  },
  {
   "cell_type": "code",
   "execution_count": 16,
   "metadata": {
    "execution": {
     "iopub.execute_input": "2021-12-01T06:46:41.531977Z",
     "iopub.status.busy": "2021-12-01T06:46:41.531354Z",
     "iopub.status.idle": "2021-12-01T06:46:42.031291Z",
     "shell.execute_reply": "2021-12-01T06:46:42.030519Z",
     "shell.execute_reply.started": "2021-12-01T06:46:41.531924Z"
    },
    "id": "w3vj2m6mmTIC"
   },
   "outputs": [
    {
     "data": {
      "image/png": "[encoded data removed]",
      "text/plain": [
       "<Figure size 800x600 with 1 Axes>"
      ]
     },
     "metadata": {},
     "output_type": "display_data"
    }
   ],
   "source": [
    "fig = plt.figure(figsize=(8,6))\n",
    "colors = ['grey','grey','grey','grey','grey','grey','grey','grey','grey',\n",
    "    'grey','darkblue','darkblue','darkblue']\n",
    "df2.groupby('Product').Consumer_complaint.count().sort_values().plot.barh(\n",
    "    ylim=0, color=colors, title= 'NUMBER OF COMPLAINTS IN EACH PRODUCT CATEGORY\\n')\n",
    "plt.xlabel('Number of ocurrences', fontsize = 10);"
   ]
  },
  {
   "cell_type": "code",
   "execution_count": 17,
   "metadata": {
    "execution": {
     "iopub.execute_input": "2021-12-01T06:46:46.868250Z",
     "iopub.status.busy": "2021-12-01T06:46:46.867697Z",
     "iopub.status.idle": "2021-12-01T06:46:53.647057Z",
     "shell.execute_reply": "2021-12-01T06:46:53.646269Z",
     "shell.execute_reply.started": "2021-12-01T06:46:46.868203Z"
    },
    "id": "g6l0ObyZmTIE"
   },
   "outputs": [
    {
     "name": "stdout",
     "output_type": "stream",
     "text": [
      "Each of the 7852 complaints is represented by 19712 features (TF-IDF score of unigrams and bigrams)\n"
     ]
    }
   ],
   "source": [
    "tfidf = TfidfVectorizer(sublinear_tf=True, min_df=5,\n",
    "                        ngram_range=(1, 2),\n",
    "                        stop_words='english')\n",
    "\n",
    "# We transform each complaint into a vector\n",
    "features = tfidf.fit_transform(df2.Consumer_complaint).toarray()\n",
    "\n",
    "labels = df2.category_id\n",
    "\n",
    "print(\"Each of the %d complaints is represented by %d features (TF-IDF score of unigrams and bigrams)\" %(features.shape))"
   ]
  },
  {
   "cell_type": "code",
   "execution_count": 19,
   "metadata": {},
   "outputs": [],
   "source": [
    "import numpy as np\n",
    "from sklearn.feature_selection import chi2\n",
    "\n",
    "# Perform chi-squared test\n",
    "features_chi2 = chi2(features, labels == category_id)\n",
    "indices = np.argsort(features_chi2[0])\n",
    "feature_names = np.array(tfidf.get_feature_names_out())[indices]  # Corrected line\n",
    "\n",
    "# Continue with the rest of your code\n",
    "unigrams = [v for v in feature_names if len(v.split(' ')) == 1]\n",
    "bigrams = [v for v in feature_names if len(v.split(' ')) == 2]\n"
   ]
  },
  {
   "cell_type": "markdown",
   "metadata": {
    "id": "n_6aTpVJmTII"
   },
   "source": [
    "<a id='sp'></a>\n",
    "### Spliting the data into train and test sets\n",
    "The original data was divided into features (X) and target (y), which were then splitted into train (75%) and test (25%) sets. Thus, the algorithms would be trained on one set of data and tested out on a completely different set of data (not seen before by the algorithm)."
   ]
  },
  {
   "cell_type": "code",
   "execution_count": 21,
   "metadata": {
    "execution": {
     "iopub.execute_input": "2021-12-01T06:47:20.079228Z",
     "iopub.status.busy": "2021-12-01T06:47:20.078938Z",
     "iopub.status.idle": "2021-12-01T06:47:20.088398Z",
     "shell.execute_reply": "2021-12-01T06:47:20.087448Z",
     "shell.execute_reply.started": "2021-12-01T06:47:20.079182Z"
    },
    "id": "8EQxucjimTIJ"
   },
   "outputs": [],
   "source": [
    "X = df2['Consumer_complaint'] # Collection of documents\n",
    "y = df2['Product'] # Target or the labels we want to predict (i.e., the 13 different complaints of products)\n",
    "\n",
    "X_train, X_test, y_train, y_test = train_test_split(X, y,\n",
    "                                                    test_size=0.25,\n",
    "                                                    random_state = 0)"
   ]
  },
  {
   "cell_type": "markdown",
   "metadata": {
    "id": "T5rBFcqTmTIK"
   },
   "source": [
    "<a id='m'></a>\n",
    "### Models"
   ]
  },
  {
   "cell_type": "code",
   "execution_count": 22,
   "metadata": {
    "execution": {
     "iopub.execute_input": "2021-12-01T06:47:26.950727Z",
     "iopub.status.busy": "2021-12-01T06:47:26.950439Z",
     "iopub.status.idle": "2021-12-01T06:49:17.969145Z",
     "shell.execute_reply": "2021-12-01T06:49:17.968261Z",
     "shell.execute_reply.started": "2021-12-01T06:47:26.950677Z"
    },
    "id": "KYbe2e4gmTIM"
   },
   "outputs": [],
   "source": [
    "models = [\n",
    "    RandomForestClassifier(n_estimators=100, max_depth=5, random_state=0),\n",
    "    LinearSVC(),\n",
    "]\n",
    "\n",
    "# 5 Cross-validation\n",
    "CV = 5\n",
    "cv_df = pd.DataFrame(index=range(CV * len(models)))\n",
    "\n",
    "entries = []\n",
    "for model in models:\n",
    "  model_name = model.__class__.__name__\n",
    "  accuracies = cross_val_score(model, features, labels, scoring='accuracy', cv=CV)\n",
    "  for fold_idx, accuracy in enumerate(accuracies):\n",
    "    entries.append((model_name, fold_idx, accuracy))\n",
    "\n",
    "cv_df = pd.DataFrame(entries, columns=['model_name', 'fold_idx', 'accuracy'])"
   ]
  },
  {
   "cell_type": "markdown",
   "metadata": {
    "id": "TRv1C36MmTIO"
   },
   "source": [
    "<a id='sum'></a>\n",
    "## Comparison of model performance\n",
    "\n",
    "The best mean acuracy was obtained with LinearSVC."
   ]
  },
  {
   "cell_type": "code",
   "execution_count": 23,
   "metadata": {
    "execution": {
     "iopub.execute_input": "2021-12-01T06:50:58.832194Z",
     "iopub.status.busy": "2021-12-01T06:50:58.831855Z",
     "iopub.status.idle": "2021-12-01T06:50:58.852692Z",
     "shell.execute_reply": "2021-12-01T06:50:58.851886Z",
     "shell.execute_reply.started": "2021-12-01T06:50:58.832154Z"
    },
    "id": "cpEA-fmamTIQ"
   },
   "outputs": [
    {
     "data": {
      "text/html": [
       "<div>\n",
       "<style scoped>\n",
       "    .dataframe tbody tr th:only-of-type {\n",
       "        vertical-align: middle;\n",
       "    }\n",
       "\n",
       "    .dataframe tbody tr th {\n",
       "        vertical-align: top;\n",
       "    }\n",
       "\n",
       "    .dataframe thead th {\n",
       "        text-align: right;\n",
       "    }\n",
       "</style>\n",
       "<table border=\"1\" class=\"dataframe\">\n",
       "  <thead>\n",
       "    <tr style=\"text-align: right;\">\n",
       "      <th></th>\n",
       "      <th>Mean Accuracy</th>\n",
       "      <th>Standard deviation</th>\n",
       "    </tr>\n",
       "    <tr>\n",
       "      <th>model_name</th>\n",
       "      <th></th>\n",
       "      <th></th>\n",
       "    </tr>\n",
       "  </thead>\n",
       "  <tbody>\n",
       "    <tr>\n",
       "      <th>LinearSVC</th>\n",
       "      <td>0.898624</td>\n",
       "      <td>0.005804</td>\n",
       "    </tr>\n",
       "    <tr>\n",
       "      <th>RandomForestClassifier</th>\n",
       "      <td>0.705553</td>\n",
       "      <td>0.000513</td>\n",
       "    </tr>\n",
       "  </tbody>\n",
       "</table>\n",
       "</div>"
      ],
      "text/plain": [
       "                        Mean Accuracy  Standard deviation\n",
       "model_name                                               \n",
       "LinearSVC                    0.898624            0.005804\n",
       "RandomForestClassifier       0.705553            0.000513"
      ]
     },
     "execution_count": 23,
     "metadata": {},
     "output_type": "execute_result"
    }
   ],
   "source": [
    "mean_accuracy = cv_df.groupby('model_name').accuracy.mean()\n",
    "std_accuracy = cv_df.groupby('model_name').accuracy.std()\n",
    "\n",
    "acc = pd.concat([mean_accuracy, std_accuracy], axis= 1,\n",
    "          ignore_index=True)\n",
    "acc.columns = ['Mean Accuracy', 'Standard deviation']\n",
    "acc"
   ]
  },
  {
   "cell_type": "code",
   "execution_count": 24,
   "metadata": {
    "execution": {
     "iopub.execute_input": "2021-12-01T06:51:04.859070Z",
     "iopub.status.busy": "2021-12-01T06:51:04.858771Z",
     "iopub.status.idle": "2021-12-01T06:51:05.131265Z",
     "shell.execute_reply": "2021-12-01T06:51:05.130471Z",
     "shell.execute_reply.started": "2021-12-01T06:51:04.859026Z"
    },
    "id": "_dwK0UZGmTIS"
   },
   "outputs": [
    {
     "data": {
      "image/png": "[encoded data removed]",
      "text/plain": [
       "<Figure size 800x500 with 1 Axes>"
      ]
     },
     "metadata": {},
     "output_type": "display_data"
    }
   ],
   "source": [
    "plt.figure(figsize=(8,5))\n",
    "sns.boxplot(x='model_name', y='accuracy',\n",
    "            data=cv_df,\n",
    "            color='lightblue',\n",
    "            showmeans=True)\n",
    "plt.title(\"MEAN ACCURACY (cv = 5)\\n\", size=14);"
   ]
  },
  {
   "cell_type": "markdown",
   "metadata": {
    "id": "3YGcKpkLmTIT"
   },
   "source": [
    "<a id='ev'></a>\n",
    "## Model Evaluation"
   ]
  },
  {
   "cell_type": "code",
   "execution_count": 25,
   "metadata": {
    "execution": {
     "iopub.execute_input": "2021-12-01T06:51:10.273144Z",
     "iopub.status.busy": "2021-12-01T06:51:10.272596Z",
     "iopub.status.idle": "2021-12-01T06:51:13.052548Z",
     "shell.execute_reply": "2021-12-01T06:51:13.051149Z",
     "shell.execute_reply.started": "2021-12-01T06:51:10.273101Z"
    },
    "id": "w1qjuXIqmTIU"
   },
   "outputs": [],
   "source": [
    "X_train, X_test, y_train, y_test,indices_train,indices_test = train_test_split(features,\n",
    "                                                               labels,\n",
    "                                                               df2.index, test_size=0.25,\n",
    "                                                               random_state=1)\n",
    "model = LinearSVC()\n",
    "model.fit(X_train, y_train)\n",
    "y_pred = model.predict(X_test)"
   ]
  },
  {
   "cell_type": "markdown",
   "metadata": {
    "id": "XXcVZLtkmTIW"
   },
   "source": [
    "<a id='m'></a>\n",
    "### Precision, Recall, F1-score"
   ]
  },
  {
   "cell_type": "code",
   "execution_count": 27,
   "metadata": {
    "execution": {
     "iopub.execute_input": "2021-12-01T06:51:19.267455Z",
     "iopub.status.busy": "2021-12-01T06:51:19.267131Z",
     "iopub.status.idle": "2021-12-01T06:51:19.286626Z",
     "shell.execute_reply": "2021-12-01T06:51:19.285688Z",
     "shell.execute_reply.started": "2021-12-01T06:51:19.267377Z"
    },
    "id": "ZN5xjMTnmTIY"
   },
   "outputs": [
    {
     "name": "stdout",
     "output_type": "stream",
     "text": [
      "\t\t\t\tCLASSIFICATIION METRICS\n",
      "\n",
      "                                    precision    recall  f1-score   support\n",
      "\n",
      "                   Debt collection       0.82      0.78      0.80       369\n",
      "Credit reporting, repair, or other       0.93      0.96      0.94      1390\n",
      "                          Mortgage       0.91      0.87      0.89       188\n",
      "                     Consumer Loan       0.00      0.00      0.00        16\n",
      "\n",
      "                          accuracy                           0.91      1963\n",
      "                         macro avg       0.67      0.65      0.66      1963\n",
      "                      weighted avg       0.90      0.91      0.90      1963\n",
      "\n"
     ]
    },
    {
     "name": "stderr",
     "output_type": "stream",
     "text": [
      "c:\\Users\\91727\\AppData\\Local\\Programs\\Python\\Python311\\Lib\\site-packages\\sklearn\\metrics\\_classification.py:1344: UndefinedMetricWarning: Precision and F-score are ill-defined and being set to 0.0 in labels with no predicted samples. Use `zero_division` parameter to control this behavior.\n",
      "  _warn_prf(average, modifier, msg_start, len(result))\n",
      "c:\\Users\\91727\\AppData\\Local\\Programs\\Python\\Python311\\Lib\\site-packages\\sklearn\\metrics\\_classification.py:1344: UndefinedMetricWarning: Precision and F-score are ill-defined and being set to 0.0 in labels with no predicted samples. Use `zero_division` parameter to control this behavior.\n",
      "  _warn_prf(average, modifier, msg_start, len(result))\n",
      "c:\\Users\\91727\\AppData\\Local\\Programs\\Python\\Python311\\Lib\\site-packages\\sklearn\\metrics\\_classification.py:1344: UndefinedMetricWarning: Precision and F-score are ill-defined and being set to 0.0 in labels with no predicted samples. Use `zero_division` parameter to control this behavior.\n",
      "  _warn_prf(average, modifier, msg_start, len(result))\n"
     ]
    }
   ],
   "source": [
    "# Classification report\n",
    "print('\\t\\t\\t\\tCLASSIFICATIION METRICS\\n')\n",
    "print(metrics.classification_report(y_test, y_pred,\n",
    "                                    target_names= df2['Product'].unique()))"
   ]
  },
  {
   "cell_type": "markdown",
   "metadata": {
    "id": "RPVQt-8ZmTIZ"
   },
   "source": [
    "<a id='cm'></a>\n",
    "### Confusion Matrix\n",
    "\n",
    "A Confusion Matrix is a table which rows represent the actual class and columns represents the predicted class.<br><br>\n",
    "If we had a perfect model that always classifies correctly a new complaint, then the confusion matrix would have values in the diagonal only (where predicted label = actual label)."
   ]
  },
  {
   "cell_type": "code",
   "execution_count": 29,
   "metadata": {
    "execution": {
     "iopub.execute_input": "2021-12-01T06:51:38.363344Z",
     "iopub.status.busy": "2021-12-01T06:51:38.362860Z",
     "iopub.status.idle": "2021-12-01T06:51:40.107255Z",
     "shell.execute_reply": "2021-12-01T06:51:40.106513Z",
     "shell.execute_reply.started": "2021-12-01T06:51:38.363305Z"
    },
    "id": "WCH7HJ0nmTIb"
   },
   "outputs": [
    {
     "data": {
      "image/png": "[encoded data removed]",
      "text/plain": [
       "<Figure size 800x800 with 2 Axes>"
      ]
     },
     "metadata": {},
     "output_type": "display_data"
    }
   ],
   "source": [
    "conf_mat = confusion_matrix(y_test, y_pred)\n",
    "fig, ax = plt.subplots(figsize=(8,8))\n",
    "sns.heatmap(conf_mat, annot=True, cmap=\"Blues\", fmt='d',\n",
    "            xticklabels=category_id_df.Product.values,\n",
    "            yticklabels=category_id_df.Product.values)\n",
    "plt.ylabel('Actual')\n",
    "plt.xlabel('Predicted')\n",
    "plt.title(\"CONFUSION MATRIX - LinearSVC\\n\", size=16);"
   ]
  },
  {
   "cell_type": "markdown",
   "metadata": {
    "id": "KuJSj8agmTIc"
   },
   "source": [
    "In general, the confusion matrix looks good (clear diagonal that represents correct classifications). Nevertheless, there are cases were the complaint was classified in a wrong class.\n",
    "\n",
    "#### Misclassified complaints\n",
    "Let’s have a look at the cases that were wrongly classified."
   ]
  },
  {
   "cell_type": "code",
   "execution_count": 30,
   "metadata": {
    "execution": {
     "iopub.execute_input": "2021-12-01T06:51:47.029095Z",
     "iopub.status.busy": "2021-12-01T06:51:47.028806Z",
     "iopub.status.idle": "2021-12-01T06:51:47.153458Z",
     "shell.execute_reply": "2021-12-01T06:51:47.151968Z",
     "shell.execute_reply.started": "2021-12-01T06:51:47.029049Z"
    },
    "id": "mUnbuAyumTIe"
   },
   "outputs": [
    {
     "name": "stdout",
     "output_type": "stream",
     "text": [
      "'Credit reporting, repair, or other' predicted as 'Debt collection' : 47 examples.\n"
     ]
    },
    {
     "data": {
      "text/html": [
       "<div>\n",
       "<style scoped>\n",
       "    .dataframe tbody tr th:only-of-type {\n",
       "        vertical-align: middle;\n",
       "    }\n",
       "\n",
       "    .dataframe tbody tr th {\n",
       "        vertical-align: top;\n",
       "    }\n",
       "\n",
       "    .dataframe thead th {\n",
       "        text-align: right;\n",
       "    }\n",
       "</style>\n",
       "<table border=\"1\" class=\"dataframe\">\n",
       "  <thead>\n",
       "    <tr style=\"text-align: right;\">\n",
       "      <th></th>\n",
       "      <th>Product</th>\n",
       "      <th>Consumer_complaint</th>\n",
       "    </tr>\n",
       "  </thead>\n",
       "  <tbody>\n",
       "    <tr>\n",
       "      <th>1796854</th>\n",
       "      <td>Credit reporting, repair, or other</td>\n",
       "      <td>On the date of XX/XX/2020, I signed a consumer...</td>\n",
       "    </tr>\n",
       "    <tr>\n",
       "      <th>3478464</th>\n",
       "      <td>Credit reporting, repair, or other</td>\n",
       "      <td>I HAVE NOT RECIEVED ANY VERIFICATION OF DEBT O...</td>\n",
       "    </tr>\n",
       "    <tr>\n",
       "      <th>3597949</th>\n",
       "      <td>Credit reporting, repair, or other</td>\n",
       "      <td>I recently noticed a lot of charges on existin...</td>\n",
       "    </tr>\n",
       "    <tr>\n",
       "      <th>751316</th>\n",
       "      <td>Credit reporting, repair, or other</td>\n",
       "      <td>I was living at apartment ; they reported not ...</td>\n",
       "    </tr>\n",
       "    <tr>\n",
       "      <th>1396860</th>\n",
       "      <td>Credit reporting, repair, or other</td>\n",
       "      <td>I 've been trying to submit complaints to EXPE...</td>\n",
       "    </tr>\n",
       "    <tr>\n",
       "      <th>1755966</th>\n",
       "      <td>Credit reporting, repair, or other</td>\n",
       "      <td>There is an item on my credit report from XXXX...</td>\n",
       "    </tr>\n",
       "    <tr>\n",
       "      <th>2149491</th>\n",
       "      <td>Credit reporting, repair, or other</td>\n",
       "      <td>Dear CFPB, This letter is in reference to acco...</td>\n",
       "    </tr>\n",
       "    <tr>\n",
       "      <th>3994735</th>\n",
       "      <td>Credit reporting, repair, or other</td>\n",
       "      <td>There was confusion on why a collection agency...</td>\n",
       "    </tr>\n",
       "    <tr>\n",
       "      <th>1484008</th>\n",
       "      <td>Credit reporting, repair, or other</td>\n",
       "      <td>This complaint is related to XXXX prior compla...</td>\n",
       "    </tr>\n",
       "    <tr>\n",
       "      <th>1209880</th>\n",
       "      <td>Credit reporting, repair, or other</td>\n",
       "      <td>I owned this car for 3 months and totaled it i...</td>\n",
       "    </tr>\n",
       "    <tr>\n",
       "      <th>2270205</th>\n",
       "      <td>Credit reporting, repair, or other</td>\n",
       "      <td>I have never opened an account with XXXX XXXX ...</td>\n",
       "    </tr>\n",
       "    <tr>\n",
       "      <th>857125</th>\n",
       "      <td>Credit reporting, repair, or other</td>\n",
       "      <td>On XX/XX/2021 I checked my credit report and i...</td>\n",
       "    </tr>\n",
       "    <tr>\n",
       "      <th>2878466</th>\n",
       "      <td>Credit reporting, repair, or other</td>\n",
       "      <td>XXXX with account # XXXX is stating I owe {$21...</td>\n",
       "    </tr>\n",
       "    <tr>\n",
       "      <th>173217</th>\n",
       "      <td>Credit reporting, repair, or other</td>\n",
       "      <td>In XX/XX/2021, I received my account balance f...</td>\n",
       "    </tr>\n",
       "    <tr>\n",
       "      <th>3838528</th>\n",
       "      <td>Credit reporting, repair, or other</td>\n",
       "      <td>I XXXX XXXX XXXX have been dealing with this d...</td>\n",
       "    </tr>\n",
       "    <tr>\n",
       "      <th>2818490</th>\n",
       "      <td>Credit reporting, repair, or other</td>\n",
       "      <td>After review of my credit report, I found that...</td>\n",
       "    </tr>\n",
       "    <tr>\n",
       "      <th>2499263</th>\n",
       "      <td>Credit reporting, repair, or other</td>\n",
       "      <td>I did not receive a written notice known as a ...</td>\n",
       "    </tr>\n",
       "    <tr>\n",
       "      <th>1139540</th>\n",
       "      <td>Credit reporting, repair, or other</td>\n",
       "      <td>They can not produce a credit appl or a repaym...</td>\n",
       "    </tr>\n",
       "    <tr>\n",
       "      <th>55236</th>\n",
       "      <td>Credit reporting, repair, or other</td>\n",
       "      <td>I have a account on my credit report that I ha...</td>\n",
       "    </tr>\n",
       "    <tr>\n",
       "      <th>141243</th>\n",
       "      <td>Credit reporting, repair, or other</td>\n",
       "      <td>RE : Attentively review my formal writ compose...</td>\n",
       "    </tr>\n",
       "    <tr>\n",
       "      <th>3573934</th>\n",
       "      <td>Credit reporting, repair, or other</td>\n",
       "      <td>I mailed an addition to credit report letter t...</td>\n",
       "    </tr>\n",
       "    <tr>\n",
       "      <th>225740</th>\n",
       "      <td>Credit reporting, repair, or other</td>\n",
       "      <td>I called in XXXX for my Yearly Free report. I ...</td>\n",
       "    </tr>\n",
       "    <tr>\n",
       "      <th>1758610</th>\n",
       "      <td>Credit reporting, repair, or other</td>\n",
       "      <td>After reviewing my most recent report, I disco...</td>\n",
       "    </tr>\n",
       "    <tr>\n",
       "      <th>1105372</th>\n",
       "      <td>Credit reporting, repair, or other</td>\n",
       "      <td>Pulled my credit in XXXX 2017 disputed 4 alleg...</td>\n",
       "    </tr>\n",
       "    <tr>\n",
       "      <th>2458215</th>\n",
       "      <td>Credit reporting, repair, or other</td>\n",
       "      <td>I had an best buy credited card which Citi Ban...</td>\n",
       "    </tr>\n",
       "    <tr>\n",
       "      <th>800457</th>\n",
       "      <td>Credit reporting, repair, or other</td>\n",
       "      <td>I created a XXXX  complaint on XX/XX/21 for Tr...</td>\n",
       "    </tr>\n",
       "    <tr>\n",
       "      <th>2358235</th>\n",
       "      <td>Credit reporting, repair, or other</td>\n",
       "      <td>Medical debt under {$500.00} reporting to all ...</td>\n",
       "    </tr>\n",
       "    <tr>\n",
       "      <th>746639</th>\n",
       "      <td>Credit reporting, repair, or other</td>\n",
       "      <td>I requested validation of this alleged debt 5 ...</td>\n",
       "    </tr>\n",
       "    <tr>\n",
       "      <th>3083387</th>\n",
       "      <td>Credit reporting, repair, or other</td>\n",
       "      <td>This account ending in XXXX was opened fraudul...</td>\n",
       "    </tr>\n",
       "    <tr>\n",
       "      <th>771803</th>\n",
       "      <td>Credit reporting, repair, or other</td>\n",
       "      <td>They have 3 accounts on my credit as unpaid co...</td>\n",
       "    </tr>\n",
       "    <tr>\n",
       "      <th>2314551</th>\n",
       "      <td>Credit reporting, repair, or other</td>\n",
       "      <td>The dates reported are completely incorrect by...</td>\n",
       "    </tr>\n",
       "    <tr>\n",
       "      <th>564509</th>\n",
       "      <td>Credit reporting, repair, or other</td>\n",
       "      <td>XXXX XXXX XXXX d/b/a XXXX in XXXX, Texas. I wa...</td>\n",
       "    </tr>\n",
       "    <tr>\n",
       "      <th>1405377</th>\n",
       "      <td>Credit reporting, repair, or other</td>\n",
       "      <td>I attempted to purchase a home and was told I ...</td>\n",
       "    </tr>\n",
       "    <tr>\n",
       "      <th>725444</th>\n",
       "      <td>Credit reporting, repair, or other</td>\n",
       "      <td>On XX/XX/2021 I paid off my Victoria secret cr...</td>\n",
       "    </tr>\n",
       "    <tr>\n",
       "      <th>2847991</th>\n",
       "      <td>Credit reporting, repair, or other</td>\n",
       "      <td>On XX/XX/XXXX I contacted Second Round LP in r...</td>\n",
       "    </tr>\n",
       "    <tr>\n",
       "      <th>2601572</th>\n",
       "      <td>Credit reporting, repair, or other</td>\n",
       "      <td>Responding to XXXX XXXX XXXX saying that they ...</td>\n",
       "    </tr>\n",
       "    <tr>\n",
       "      <th>939399</th>\n",
       "      <td>Credit reporting, repair, or other</td>\n",
       "      <td>Well over 2 yrs. ago a suspicious account appe...</td>\n",
       "    </tr>\n",
       "    <tr>\n",
       "      <th>634691</th>\n",
       "      <td>Credit reporting, repair, or other</td>\n",
       "      <td>National Credit System # XXXX is reporting a d...</td>\n",
       "    </tr>\n",
       "    <tr>\n",
       "      <th>2780128</th>\n",
       "      <td>Credit reporting, repair, or other</td>\n",
       "      <td>I disputed an Americollect account that is rep...</td>\n",
       "    </tr>\n",
       "    <tr>\n",
       "      <th>125327</th>\n",
       "      <td>Credit reporting, repair, or other</td>\n",
       "      <td>XXXX XXXX Dispute History XX/XX/XXXX : Sent my...</td>\n",
       "    </tr>\n",
       "    <tr>\n",
       "      <th>1706418</th>\n",
       "      <td>Credit reporting, repair, or other</td>\n",
       "      <td>Back in XXXX to XXXX I had adverse financial d...</td>\n",
       "    </tr>\n",
       "    <tr>\n",
       "      <th>1436895</th>\n",
       "      <td>Credit reporting, repair, or other</td>\n",
       "      <td>Disputed final bill amount with XXXX XXXX, for...</td>\n",
       "    </tr>\n",
       "    <tr>\n",
       "      <th>2136147</th>\n",
       "      <td>Credit reporting, repair, or other</td>\n",
       "      <td>I was contacted by XXXX today regarding a prev...</td>\n",
       "    </tr>\n",
       "    <tr>\n",
       "      <th>3517169</th>\n",
       "      <td>Credit reporting, repair, or other</td>\n",
       "      <td>As I was attempting to review my credit report...</td>\n",
       "    </tr>\n",
       "    <tr>\n",
       "      <th>890164</th>\n",
       "      <td>Credit reporting, repair, or other</td>\n",
       "      <td>I opened disputes. They just kept saying they ...</td>\n",
       "    </tr>\n",
       "    <tr>\n",
       "      <th>610318</th>\n",
       "      <td>Credit reporting, repair, or other</td>\n",
       "      <td>I disputed Trident Asset Management Acct # XXX...</td>\n",
       "    </tr>\n",
       "    <tr>\n",
       "      <th>442611</th>\n",
       "      <td>Credit reporting, repair, or other</td>\n",
       "      <td>This complaint is in regards to the fraudulent...</td>\n",
       "    </tr>\n",
       "  </tbody>\n",
       "</table>\n",
       "</div>"
      ],
      "text/plain": [
       "                                    Product  \\\n",
       "1796854  Credit reporting, repair, or other   \n",
       "3478464  Credit reporting, repair, or other   \n",
       "3597949  Credit reporting, repair, or other   \n",
       "751316   Credit reporting, repair, or other   \n",
       "1396860  Credit reporting, repair, or other   \n",
       "1755966  Credit reporting, repair, or other   \n",
       "2149491  Credit reporting, repair, or other   \n",
       "3994735  Credit reporting, repair, or other   \n",
       "1484008  Credit reporting, repair, or other   \n",
       "1209880  Credit reporting, repair, or other   \n",
       "2270205  Credit reporting, repair, or other   \n",
       "857125   Credit reporting, repair, or other   \n",
       "2878466  Credit reporting, repair, or other   \n",
       "173217   Credit reporting, repair, or other   \n",
       "3838528  Credit reporting, repair, or other   \n",
       "2818490  Credit reporting, repair, or other   \n",
       "2499263  Credit reporting, repair, or other   \n",
       "1139540  Credit reporting, repair, or other   \n",
       "55236    Credit reporting, repair, or other   \n",
       "141243   Credit reporting, repair, or other   \n",
       "3573934  Credit reporting, repair, or other   \n",
       "225740   Credit reporting, repair, or other   \n",
       "1758610  Credit reporting, repair, or other   \n",
       "1105372  Credit reporting, repair, or other   \n",
       "2458215  Credit reporting, repair, or other   \n",
       "800457   Credit reporting, repair, or other   \n",
       "2358235  Credit reporting, repair, or other   \n",
       "746639   Credit reporting, repair, or other   \n",
       "3083387  Credit reporting, repair, or other   \n",
       "771803   Credit reporting, repair, or other   \n",
       "2314551  Credit reporting, repair, or other   \n",
       "564509   Credit reporting, repair, or other   \n",
       "1405377  Credit reporting, repair, or other   \n",
       "725444   Credit reporting, repair, or other   \n",
       "2847991  Credit reporting, repair, or other   \n",
       "2601572  Credit reporting, repair, or other   \n",
       "939399   Credit reporting, repair, or other   \n",
       "634691   Credit reporting, repair, or other   \n",
       "2780128  Credit reporting, repair, or other   \n",
       "125327   Credit reporting, repair, or other   \n",
       "1706418  Credit reporting, repair, or other   \n",
       "1436895  Credit reporting, repair, or other   \n",
       "2136147  Credit reporting, repair, or other   \n",
       "3517169  Credit reporting, repair, or other   \n",
       "890164   Credit reporting, repair, or other   \n",
       "610318   Credit reporting, repair, or other   \n",
       "442611   Credit reporting, repair, or other   \n",
       "\n",
       "                                        Consumer_complaint  \n",
       "1796854  On the date of XX/XX/2020, I signed a consumer...  \n",
       "3478464  I HAVE NOT RECIEVED ANY VERIFICATION OF DEBT O...  \n",
       "3597949  I recently noticed a lot of charges on existin...  \n",
       "751316   I was living at apartment ; they reported not ...  \n",
       "1396860  I 've been trying to submit complaints to EXPE...  \n",
       "1755966  There is an item on my credit report from XXXX...  \n",
       "2149491  Dear CFPB, This letter is in reference to acco...  \n",
       "3994735  There was confusion on why a collection agency...  \n",
       "1484008  This complaint is related to XXXX prior compla...  \n",
       "1209880  I owned this car for 3 months and totaled it i...  \n",
       "2270205  I have never opened an account with XXXX XXXX ...  \n",
       "857125   On XX/XX/2021 I checked my credit report and i...  \n",
       "2878466  XXXX with account # XXXX is stating I owe {$21...  \n",
       "173217   In XX/XX/2021, I received my account balance f...  \n",
       "3838528  I XXXX XXXX XXXX have been dealing with this d...  \n",
       "2818490  After review of my credit report, I found that...  \n",
       "2499263  I did not receive a written notice known as a ...  \n",
       "1139540  They can not produce a credit appl or a repaym...  \n",
       "55236    I have a account on my credit report that I ha...  \n",
       "141243   RE : Attentively review my formal writ compose...  \n",
       "3573934  I mailed an addition to credit report letter t...  \n",
       "225740   I called in XXXX for my Yearly Free report. I ...  \n",
       "1758610  After reviewing my most recent report, I disco...  \n",
       "1105372  Pulled my credit in XXXX 2017 disputed 4 alleg...  \n",
       "2458215  I had an best buy credited card which Citi Ban...  \n",
       "800457   I created a XXXX  complaint on XX/XX/21 for Tr...  \n",
       "2358235  Medical debt under {$500.00} reporting to all ...  \n",
       "746639   I requested validation of this alleged debt 5 ...  \n",
       "3083387  This account ending in XXXX was opened fraudul...  \n",
       "771803   They have 3 accounts on my credit as unpaid co...  \n",
       "2314551  The dates reported are completely incorrect by...  \n",
       "564509   XXXX XXXX XXXX d/b/a XXXX in XXXX, Texas. I wa...  \n",
       "1405377  I attempted to purchase a home and was told I ...  \n",
       "725444   On XX/XX/2021 I paid off my Victoria secret cr...  \n",
       "2847991  On XX/XX/XXXX I contacted Second Round LP in r...  \n",
       "2601572  Responding to XXXX XXXX XXXX saying that they ...  \n",
       "939399   Well over 2 yrs. ago a suspicious account appe...  \n",
       "634691   National Credit System # XXXX is reporting a d...  \n",
       "2780128  I disputed an Americollect account that is rep...  \n",
       "125327   XXXX XXXX Dispute History XX/XX/XXXX : Sent my...  \n",
       "1706418  Back in XXXX to XXXX I had adverse financial d...  \n",
       "1436895  Disputed final bill amount with XXXX XXXX, for...  \n",
       "2136147  I was contacted by XXXX today regarding a prev...  \n",
       "3517169  As I was attempting to review my credit report...  \n",
       "890164   I opened disputes. They just kept saying they ...  \n",
       "610318   I disputed Trident Asset Management Acct # XXX...  \n",
       "442611   This complaint is in regards to the fraudulent...  "
      ]
     },
     "metadata": {},
     "output_type": "display_data"
    },
    {
     "name": "stdout",
     "output_type": "stream",
     "text": [
      "\n",
      "'Debt collection' predicted as 'Credit reporting, repair, or other' : 76 examples.\n"
     ]
    },
    {
     "data": {
      "text/html": [
       "<div>\n",
       "<style scoped>\n",
       "    .dataframe tbody tr th:only-of-type {\n",
       "        vertical-align: middle;\n",
       "    }\n",
       "\n",
       "    .dataframe tbody tr th {\n",
       "        vertical-align: top;\n",
       "    }\n",
       "\n",
       "    .dataframe thead th {\n",
       "        text-align: right;\n",
       "    }\n",
       "</style>\n",
       "<table border=\"1\" class=\"dataframe\">\n",
       "  <thead>\n",
       "    <tr style=\"text-align: right;\">\n",
       "      <th></th>\n",
       "      <th>Product</th>\n",
       "      <th>Consumer_complaint</th>\n",
       "    </tr>\n",
       "  </thead>\n",
       "  <tbody>\n",
       "    <tr>\n",
       "      <th>818771</th>\n",
       "      <td>Debt collection</td>\n",
       "      <td>I am a federally protected consumer and Navy F...</td>\n",
       "    </tr>\n",
       "    <tr>\n",
       "      <th>3171010</th>\n",
       "      <td>Debt collection</td>\n",
       "      <td>This kind of account is placed as a charged of...</td>\n",
       "    </tr>\n",
       "    <tr>\n",
       "      <th>3707625</th>\n",
       "      <td>Debt collection</td>\n",
       "      <td>I recently reviewed my credit reports and I ha...</td>\n",
       "    </tr>\n",
       "    <tr>\n",
       "      <th>3554294</th>\n",
       "      <td>Debt collection</td>\n",
       "      <td>Name of Creditor : RISE Address : XXXX XXXX XX...</td>\n",
       "    </tr>\n",
       "    <tr>\n",
       "      <th>569968</th>\n",
       "      <td>Debt collection</td>\n",
       "      <td>I filed this complaint with the FTC # XXXX on ...</td>\n",
       "    </tr>\n",
       "    <tr>\n",
       "      <th>...</th>\n",
       "      <td>...</td>\n",
       "      <td>...</td>\n",
       "    </tr>\n",
       "    <tr>\n",
       "      <th>1007749</th>\n",
       "      <td>Debt collection</td>\n",
       "      <td>An account with Capital One was opened with a ...</td>\n",
       "    </tr>\n",
       "    <tr>\n",
       "      <th>3094618</th>\n",
       "      <td>Debt collection</td>\n",
       "      <td>I have 2 accounts on my credit report that I h...</td>\n",
       "    </tr>\n",
       "    <tr>\n",
       "      <th>1404391</th>\n",
       "      <td>Debt collection</td>\n",
       "      <td>I spoke with Employee ID # XXXX regarding a pu...</td>\n",
       "    </tr>\n",
       "    <tr>\n",
       "      <th>110057</th>\n",
       "      <td>Debt collection</td>\n",
       "      <td>In accordance with the Fair credit reporting a...</td>\n",
       "    </tr>\n",
       "    <tr>\n",
       "      <th>2753902</th>\n",
       "      <td>Debt collection</td>\n",
       "      <td>U S BANK {$1200.00} I have reported this compa...</td>\n",
       "    </tr>\n",
       "  </tbody>\n",
       "</table>\n",
       "<p>76 rows × 2 columns</p>\n",
       "</div>"
      ],
      "text/plain": [
       "                 Product                                 Consumer_complaint\n",
       "818771   Debt collection  I am a federally protected consumer and Navy F...\n",
       "3171010  Debt collection  This kind of account is placed as a charged of...\n",
       "3707625  Debt collection  I recently reviewed my credit reports and I ha...\n",
       "3554294  Debt collection  Name of Creditor : RISE Address : XXXX XXXX XX...\n",
       "569968   Debt collection  I filed this complaint with the FTC # XXXX on ...\n",
       "...                  ...                                                ...\n",
       "1007749  Debt collection  An account with Capital One was opened with a ...\n",
       "3094618  Debt collection  I have 2 accounts on my credit report that I h...\n",
       "1404391  Debt collection  I spoke with Employee ID # XXXX regarding a pu...\n",
       "110057   Debt collection  In accordance with the Fair credit reporting a...\n",
       "2753902  Debt collection  U S BANK {$1200.00} I have reported this compa...\n",
       "\n",
       "[76 rows x 2 columns]"
      ]
     },
     "metadata": {},
     "output_type": "display_data"
    },
    {
     "name": "stdout",
     "output_type": "stream",
     "text": [
      "\n"
     ]
    }
   ],
   "source": [
    "for predicted in category_id_df.category_id:\n",
    "  for actual in category_id_df.category_id:\n",
    "    if predicted != actual and conf_mat[actual, predicted] >= 20:\n",
    "      print(\"'{}' predicted as '{}' : {} examples.\".format(id_to_category[actual],\n",
    "                                                           id_to_category[predicted],\n",
    "                                                           conf_mat[actual, predicted]))\n",
    "\n",
    "      display(df2.loc[indices_test[(y_test == actual) & (y_pred == predicted)]][['Product',\n",
    "                                                                'Consumer_complaint']])\n",
    "      print('')"
   ]
  },
  {
   "cell_type": "markdown",
   "metadata": {
    "id": "h5_WYZh2mTIg"
   },
   "source": [
    "#### Most correlated terms with each category"
   ]
  },
  {
   "cell_type": "code",
   "execution_count": 31,
   "metadata": {
    "execution": {
     "iopub.execute_input": "2021-12-01T06:52:06.612914Z",
     "iopub.status.busy": "2021-12-01T06:52:06.612260Z",
     "iopub.status.idle": "2021-12-01T06:52:09.520758Z",
     "shell.execute_reply": "2021-12-01T06:52:09.519874Z",
     "shell.execute_reply.started": "2021-12-01T06:52:06.612853Z"
    },
    "id": "DwtO3yHZmTIu"
   },
   "outputs": [
    {
     "ename": "AttributeError",
     "evalue": "'TfidfVectorizer' object has no attribute 'get_feature_names'",
     "output_type": "error",
     "traceback": [
      "\u001b[1;31m---------------------------------------------------------------------------\u001b[0m",
      "\u001b[1;31mAttributeError\u001b[0m                            Traceback (most recent call last)",
      "\u001b[1;32mc:\\KaiburrByAnkit\\Task6\\Copy_of_multi_class_text_classification_tfidf_9817e6.ipynb Cell 37\u001b[0m line \u001b[0;36m6\n\u001b[0;32m      <a href='vscode-notebook-cell:/c%3A/KaiburrByAnkit/Task6/Copy_of_multi_class_text_classification_tfidf_9817e6.ipynb#X52sZmlsZQ%3D%3D?line=3'>4</a>\u001b[0m \u001b[39mfor\u001b[39;00m Product, category_id \u001b[39min\u001b[39;00m \u001b[39msorted\u001b[39m(category_to_id\u001b[39m.\u001b[39mitems()):\n\u001b[0;32m      <a href='vscode-notebook-cell:/c%3A/KaiburrByAnkit/Task6/Copy_of_multi_class_text_classification_tfidf_9817e6.ipynb#X52sZmlsZQ%3D%3D?line=4'>5</a>\u001b[0m   indices \u001b[39m=\u001b[39m np\u001b[39m.\u001b[39margsort(model\u001b[39m.\u001b[39mcoef_[category_id])\n\u001b[1;32m----> <a href='vscode-notebook-cell:/c%3A/KaiburrByAnkit/Task6/Copy_of_multi_class_text_classification_tfidf_9817e6.ipynb#X52sZmlsZQ%3D%3D?line=5'>6</a>\u001b[0m   feature_names \u001b[39m=\u001b[39m np\u001b[39m.\u001b[39marray(tfidf\u001b[39m.\u001b[39;49mget_feature_names())[indices]\n\u001b[0;32m      <a href='vscode-notebook-cell:/c%3A/KaiburrByAnkit/Task6/Copy_of_multi_class_text_classification_tfidf_9817e6.ipynb#X52sZmlsZQ%3D%3D?line=6'>7</a>\u001b[0m   unigrams \u001b[39m=\u001b[39m [v \u001b[39mfor\u001b[39;00m v \u001b[39min\u001b[39;00m \u001b[39mreversed\u001b[39m(feature_names) \u001b[39mif\u001b[39;00m \u001b[39mlen\u001b[39m(v\u001b[39m.\u001b[39msplit(\u001b[39m'\u001b[39m\u001b[39m \u001b[39m\u001b[39m'\u001b[39m)) \u001b[39m==\u001b[39m \u001b[39m1\u001b[39m][:N]\n\u001b[0;32m      <a href='vscode-notebook-cell:/c%3A/KaiburrByAnkit/Task6/Copy_of_multi_class_text_classification_tfidf_9817e6.ipynb#X52sZmlsZQ%3D%3D?line=7'>8</a>\u001b[0m   bigrams \u001b[39m=\u001b[39m [v \u001b[39mfor\u001b[39;00m v \u001b[39min\u001b[39;00m \u001b[39mreversed\u001b[39m(feature_names) \u001b[39mif\u001b[39;00m \u001b[39mlen\u001b[39m(v\u001b[39m.\u001b[39msplit(\u001b[39m'\u001b[39m\u001b[39m \u001b[39m\u001b[39m'\u001b[39m)) \u001b[39m==\u001b[39m \u001b[39m2\u001b[39m][:N]\n",
      "\u001b[1;31mAttributeError\u001b[0m: 'TfidfVectorizer' object has no attribute 'get_feature_names'"
     ]
    }
   ],
   "source": [
    "model.fit(features, labels)\n",
    "\n",
    "N = 4\n",
    "for Product, category_id in sorted(category_to_id.items()):\n",
    "  indices = np.argsort(model.coef_[category_id])\n",
    "  feature_names = np.array(tfidf.get_feature_names())[indices]\n",
    "  unigrams = [v for v in reversed(feature_names) if len(v.split(' ')) == 1][:N]\n",
    "  bigrams = [v for v in reversed(feature_names) if len(v.split(' ')) == 2][:N]\n",
    "  print(\"\\n==> '{}':\".format(Product))\n",
    "  print(\"  * Top unigrams: %s\" %(', '.join(unigrams)))\n",
    "  print(\"  * Top bigrams: %s\" %(', '.join(bigrams)))"
   ]
  },
  {
   "cell_type": "markdown",
   "metadata": {
    "id": "Pfaupc_imTIv"
   },
   "source": [
    "<a id='pred'></a>\n",
    "## Predictions\n",
    "\n",
    "Now let's make a few predictions on unseen data.<br>"
   ]
  },
  {
   "cell_type": "code",
   "execution_count": null,
   "metadata": {
    "execution": {
     "iopub.execute_input": "2021-12-01T06:52:18.098330Z",
     "iopub.status.busy": "2021-12-01T06:52:18.098020Z",
     "iopub.status.idle": "2021-12-01T06:52:25.372626Z",
     "shell.execute_reply": "2021-12-01T06:52:25.371596Z",
     "shell.execute_reply.started": "2021-12-01T06:52:18.098276Z"
    },
    "id": "Rxv6M9N8mTIw"
   },
   "outputs": [],
   "source": [
    "X_train, X_test, y_train, y_test = train_test_split(X, y,\n",
    "                                                    test_size=0.25,\n",
    "                                                    random_state = 0)\n",
    "\n",
    "tfidf = TfidfVectorizer(sublinear_tf=True, min_df=5,\n",
    "                        ngram_range=(1, 2),\n",
    "                        stop_words='english')\n",
    "\n",
    "fitted_vectorizer = tfidf.fit(X_train)\n",
    "tfidf_vectorizer_vectors = fitted_vectorizer.transform(X_train)\n",
    "\n",
    "model = LinearSVC().fit(tfidf_vectorizer_vectors, y_train)"
   ]
  },
  {
   "cell_type": "markdown",
   "metadata": {
    "id": "7r2gwFU-mTI0"
   },
   "source": [
    "Our model was correct, the complaint was about **Student Loan**. Note that this customer has used terms with high TFIDF score, such us **Navient[](http://)**.<br><br>\n",
    "Let's check another example."
   ]
  },
  {
   "cell_type": "code",
   "execution_count": null,
   "metadata": {
    "execution": {
     "iopub.execute_input": "2021-12-01T06:52:35.939736Z",
     "iopub.status.busy": "2021-12-01T06:52:35.939016Z",
     "iopub.status.idle": "2021-12-01T06:52:35.946852Z",
     "shell.execute_reply": "2021-12-01T06:52:35.945715Z",
     "shell.execute_reply.started": "2021-12-01T06:52:35.939345Z"
    },
    "id": "NvBhtf9qmTI1"
   },
   "outputs": [],
   "source": [
    "new_complaint_2 = \"\"\"Equifax exposed my personal information without my consent, as part of their recent data breach. \\\n",
    "In addition, they dragged their feet in the announcement of the report, and even allowed their upper management to sell \\\n",
    "off stock before the announcement.\"\"\"\n",
    "print(model.predict(fitted_vectorizer.transform([new_complaint_2])))"
   ]
  },
  {
   "cell_type": "code",
   "execution_count": null,
   "metadata": {
    "execution": {
     "iopub.execute_input": "2021-12-01T06:52:41.228435Z",
     "iopub.status.busy": "2021-12-01T06:52:41.228153Z",
     "iopub.status.idle": "2021-12-01T06:52:41.248723Z",
     "shell.execute_reply": "2021-12-01T06:52:41.247672Z",
     "shell.execute_reply.started": "2021-12-01T06:52:41.228383Z"
    },
    "id": "ISLIZ8bamTI2"
   },
   "outputs": [],
   "source": [
    "df2[df2['Consumer_complaint'] == new_complaint_2]"
   ]
  },
  {
   "cell_type": "code",
   "execution_count": null,
   "metadata": {
    "id": "BY0OVMBnmTI3"
   },
   "outputs": [],
   "source": []
  },
  {
   "cell_type": "code",
   "execution_count": null,
   "metadata": {},
   "outputs": [],
   "source": []
  },
  {
   "cell_type": "code",
   "execution_count": null,
   "metadata": {},
   "outputs": [],
   "source": []
  },
  {
   "cell_type": "code",
   "execution_count": null,
   "metadata": {},
   "outputs": [],
   "source": []
  }
 ],
 "metadata": {
  "colab": {
   "provenance": []
  },
  "kernelspec": {
   "display_name": "Python 3 (ipykernel)",
   "language": "python",
   "name": "python3"
  },
  "language_info": {
   "codemirror_mode": {
    "name": "ipython",
    "version": 3
   },
   "file_extension": ".py",
   "mimetype": "text/x-python",
   "name": "python",
   "nbconvert_exporter": "python",
   "pygments_lexer": "ipython3",
   "version": "3.11.3"
  }
 },
 "nbformat": 4,
 "nbformat_minor": 1
}
